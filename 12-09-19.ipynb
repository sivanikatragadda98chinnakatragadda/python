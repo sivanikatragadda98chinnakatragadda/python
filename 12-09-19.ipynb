{
 "cells": [
  {
   "cell_type": "markdown",
   "metadata": {},
   "source": [
    "###numbers divisible"
   ]
  },
  {
   "cell_type": "code",
   "execution_count": 3,
   "metadata": {},
   "outputs": [
    {
     "name": "stdout",
     "output_type": "stream",
     "text": [
      "1\n",
      "50\n",
      "6\n",
      "12\n",
      "18\n",
      "24\n",
      "30\n",
      "36\n",
      "42\n",
      "48\n"
     ]
    }
   ],
   "source": [
    "h=int(input())\n",
    "a=int(input())\n",
    "def divisibilty (n):\n",
    "        if n%6==0 and n%100!=0:\n",
    "            print(n)\n",
    "for j in range(h,a+1):\n",
    "    divisibilty(j)\n",
    "        \n",
    "                \n",
    "                   \n",
    " "
   ]
  },
  {
   "cell_type": "markdown",
   "metadata": {},
   "source": [
    "###even cubes\n"
   ]
  },
  {
   "cell_type": "code",
   "execution_count": 7,
   "metadata": {},
   "outputs": [
    {
     "name": "stdout",
     "output_type": "stream",
     "text": [
      "2\n",
      "8\n",
      "200\n"
     ]
    }
   ],
   "source": [
    "h=int(input())\n",
    "a=int(input())\n",
    "def even_cube(r,s):\n",
    "    c=0\n",
    "    j=0\n",
    "    for i in range(h,a+1):\n",
    "        if i%2==0:\n",
    "            c=c+(i**3)\n",
    "            j+=1\n",
    "    print(c//j)\n",
    "even_cube(h,a)\n",
    "\n",
    "            \n",
    "    \n",
    "\n",
    "    "
   ]
  },
  {
   "cell_type": "markdown",
   "metadata": {},
   "source": [
    "#### topper list\n"
   ]
  },
  {
   "cell_type": "code",
   "execution_count": 33,
   "metadata": {},
   "outputs": [
    {
     "name": "stdout",
     "output_type": "stream",
     "text": [
      "a 60\n",
      "d 82\n",
      "f 36\n",
      "c 55\n",
      "e 91\n"
     ]
    }
   ],
   "source": [
    "d={\"a\":60,\"d\":82,\"f\":36,\"c\":55,\"e\":91}\n",
    "for (x,y) in d.items():\n",
    "    print (x,y)"
   ]
  },
  {
   "cell_type": "code",
   "execution_count": 27,
   "metadata": {},
   "outputs": [
    {
     "name": "stdout",
     "output_type": "stream",
     "text": [
      "a 60\n",
      "d 82\n",
      "f 36\n",
      "c 55\n",
      "e 91\n"
     ]
    }
   ],
   "source": [
    "d={\"a\":60,\"d\":82,\"f\":36,\"c\":55,\"e\":91}\n",
    "for (x,y) in d.items():\n",
    "    print(x,y)\n",
    "    \n",
    "    "
   ]
  },
  {
   "cell_type": "markdown",
   "metadata": {},
   "source": [
    "###while loop"
   ]
  },
  {
   "cell_type": "code",
   "execution_count": 49,
   "metadata": {},
   "outputs": [
    {
     "name": "stdout",
     "output_type": "stream",
     "text": [
      "e top\n"
     ]
    }
   ],
   "source": [
    "d={\"a\":60,\"d\":82,\"f\":36,\"c\":55,\"e\":91}"
   ]
  }
 ],
 "metadata": {
  "kernelspec": {
   "display_name": "Python 3",
   "language": "python",
   "name": "python3"
  },
  "language_info": {
   "codemirror_mode": {
    "name": "ipython",
    "version": 3
   },
   "file_extension": ".py",
   "mimetype": "text/x-python",
   "name": "python",
   "nbconvert_exporter": "python",
   "pygments_lexer": "ipython3",
   "version": "3.7.3"
  }
 },
 "nbformat": 4,
 "nbformat_minor": 2
}
