{
 "cells": [
  {
   "cell_type": "markdown",
   "metadata": {},
   "source": [
    "###file path"
   ]
  },
  {
   "cell_type": "code",
   "execution_count": 7,
   "metadata": {},
   "outputs": [],
   "source": [
    "filepath=\"./sivani/sample.txt\"\n",
    "with open(filepath,'w') as f:\n",
    "    f.write(\"nani is good boy\\nhe is good cricket player\")"
   ]
  },
  {
   "cell_type": "code",
   "execution_count": 12,
   "metadata": {},
   "outputs": [
    {
     "name": "stdout",
     "output_type": "stream",
     "text": [
      "nani is good boy\n",
      "he is good cricket player\n"
     ]
    }
   ],
   "source": [
    "filepath=\"./sivani/sample.txt\"\n",
    "with open(filepath,'r') as f:\n",
    "    data=f.read()\n",
    "    print(data)"
   ]
  },
  {
   "cell_type": "markdown",
   "metadata": {},
   "source": [
    "###7segment even list\n"
   ]
  },
  {
   "cell_type": "code",
   "execution_count": 14,
   "metadata": {},
   "outputs": [
    {
     "name": "stdout",
     "output_type": "stream",
     "text": [
      "2\n",
      "13\n",
      "7 1111111111111\n",
      "12\n",
      "111111111111\n"
     ]
    }
   ],
   "source": [
    "h=int(input())\n",
    "c=0\n",
    "d={'0':6,'1':2,'2':5,'3':5,'4':5,'5':5,'6':6,'7':3,'8':7,'9':6}\n",
    "for i in range(h):\n",
    "    a=int(input())\n",
    "    if a%2==0:\n",
    "        print(\"1\"*a)\n",
    "    else :\n",
    "        print(\"7\",(\"1\"*a))"
   ]
  },
  {
   "cell_type": "code",
   "execution_count": 1,
   "metadata": {},
   "outputs": [
    {
     "ename": "NameError",
     "evalue": "name 'abcdefghijklmnopqrstuvwxyz' is not defined",
     "output_type": "error",
     "traceback": [
      "\u001b[1;31m---------------------------------------------------------------------------\u001b[0m",
      "\u001b[1;31mNameError\u001b[0m                                 Traceback (most recent call last)",
      "\u001b[1;32m<ipython-input-1-29409b8dd50e>\u001b[0m in \u001b[0;36m<module>\u001b[1;34m\u001b[0m\n\u001b[1;32m----> 1\u001b[1;33m \u001b[0mabcdefghijklmnopqrstuvwxyz\u001b[0m\u001b[1;33m\u001b[0m\u001b[1;33m\u001b[0m\u001b[0m\n\u001b[0m\u001b[0;32m      2\u001b[0m \u001b[1;33m\u001b[0m\u001b[0m\n\u001b[0;32m      3\u001b[0m \u001b[0mabcdefghijklmnopqrstuvwxyz\u001b[0m\u001b[1;33m\u001b[0m\u001b[1;33m\u001b[0m\u001b[0m\n",
      "\u001b[1;31mNameError\u001b[0m: name 'abcdefghijklmnopqrstuvwxyz' is not defined"
     ]
    }
   ],
   "source": []
  },
  {
   "cell_type": "code",
   "execution_count": null,
   "metadata": {},
   "outputs": [],
   "source": [
    "t=int(input(\"test case\"))\n",
    "for i in range(t):\n",
    "    n=input().split()\n",
    "    "
   ]
  }
 ],
 "metadata": {
  "kernelspec": {
   "display_name": "Python 3",
   "language": "python",
   "name": "python3"
  },
  "language_info": {
   "codemirror_mode": {
    "name": "ipython",
    "version": 3
   },
   "file_extension": ".py",
   "mimetype": "text/x-python",
   "name": "python",
   "nbconvert_exporter": "python",
   "pygments_lexer": "ipython3",
   "version": "3.7.3"
  }
 },
 "nbformat": 4,
 "nbformat_minor": 2
}
