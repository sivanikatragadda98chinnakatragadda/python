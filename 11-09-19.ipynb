{
 "cells": [
  {
   "cell_type": "markdown",
   "metadata": {},
   "source": [
    "resversee of a string"
   ]
  },
  {
   "cell_type": "code",
   "execution_count": 4,
   "metadata": {},
   "outputs": [
    {
     "name": "stdout",
     "output_type": "stream",
     "text": [
      "nani\n"
     ]
    },
    {
     "data": {
      "text/plain": [
       "'inan'"
      ]
     },
     "execution_count": 4,
     "metadata": {},
     "output_type": "execute_result"
    }
   ],
   "source": [
    "h=(input())\n",
    "r=h[::-1]\n",
    "r"
   ]
  },
  {
   "cell_type": "code",
   "execution_count": 6,
   "metadata": {},
   "outputs": [
    {
     "name": "stdout",
     "output_type": "stream",
     "text": [
      "9876543298642\n"
     ]
    },
    {
     "data": {
      "text/plain": [
       "'85'"
      ]
     },
     "execution_count": 6,
     "metadata": {},
     "output_type": "execute_result"
    }
   ],
   "source": [
    "a=(input())\n",
    "a[1:5:3]"
   ]
  },
  {
   "cell_type": "markdown",
   "metadata": {},
   "source": [
    "###perfect number"
   ]
  },
  {
   "cell_type": "code",
   "execution_count": 15,
   "metadata": {},
   "outputs": [
    {
     "name": "stdout",
     "output_type": "stream",
     "text": [
      "2\n",
      "3\n",
      "not perfect number\n"
     ]
    }
   ],
   "source": [
    "h=int(input())\n",
    "a=int(input())\n",
    "if h>a:\n",
    "    print(\"perfect number\")\n",
    "else :\n",
    "    print(\"not perfect number\")"
   ]
  },
  {
   "cell_type": "markdown",
   "metadata": {},
   "source": [
    "#### specialchar\n"
   ]
  },
  {
   "cell_type": "code",
   "execution_count": 25,
   "metadata": {},
   "outputs": [
    {
     "name": "stdout",
     "output_type": "stream",
     "text": [
      "29\n",
      "not valid\n",
      "special\n"
     ]
    }
   ],
   "source": [
    "h=int(input())\n",
    "i=h\n",
    "if i>10:\n",
    "    print(\"not valid\")\n",
    "    a=h//10\n",
    "    d=h%10\n",
    "    v=a+d\n",
    "    n=a*d\n",
    "    p=v+n\n",
    "    if(p==i):\n",
    "        print(\"special\")\n",
    "    else:\n",
    "        print(\"not special\")"
   ]
  },
  {
   "cell_type": "code",
   "execution_count": 26,
   "metadata": {},
   "outputs": [],
   "source": [
    "###*erfect num"
   ]
  },
  {
   "cell_type": "code",
   "execution_count": 29,
   "metadata": {},
   "outputs": [
    {
     "name": "stdout",
     "output_type": "stream",
     "text": [
      "8\n",
      "not perfect\n"
     ]
    }
   ],
   "source": [
    "h=int(input())\n",
    "s=0\n",
    "for i in range(1,h):\n",
    "    if(h%i==0):\n",
    "        s=s+i\n",
    "if(s==h):\n",
    "    print(\"perfect\")\n",
    "else :\n",
    "    print(\"not perfect\")"
   ]
  },
  {
   "cell_type": "code",
   "execution_count": 52,
   "metadata": {},
   "outputs": [
    {
     "name": "stdout",
     "output_type": "stream",
     "text": [
      "1\n",
      "100\n",
      "6\n",
      "28\n"
     ]
    }
   ],
   "source": [
    "c=int(input())\n",
    "n=int(input())\n",
    "a=0\n",
    "def findfactor(h,a):\n",
    "    for i in range(1,h):\n",
    "        if h%i==0:\n",
    "            a=a+i\n",
    "    if a==h:\n",
    "        print(h)\n",
    "\n",
    "for k in range(c,n+1):\n",
    "    findfactor(k,a)"
   ]
  },
  {
   "cell_type": "markdown",
   "metadata": {},
   "source": [
    "###PRIME"
   ]
  },
  {
   "cell_type": "code",
   "execution_count": 2,
   "metadata": {},
   "outputs": [
    {
     "name": "stdout",
     "output_type": "stream",
     "text": [
      "1\n",
      "10\n",
      "1 not prime\n",
      "2 prime\n",
      "3 prime\n",
      "4 not prime\n",
      "5 prime\n",
      "6 not prime\n",
      "7 prime\n",
      "8 not prime\n",
      "9 not prime\n",
      "10 not prime\n"
     ]
    }
   ],
   "source": [
    "h=int(input())\n",
    "a=int(input())\n",
    "r=0\n",
    "def prime_number(n,r):\n",
    "    for i in range(1,n):\n",
    "        if n%i==0:\n",
    "            r=r+1\n",
    "    if r==1:\n",
    "        print(n,\"prime\")\n",
    "    else:\n",
    "        print(n,\"not prime\")\n",
    "for j in range(h,a+1):\n",
    "    prime_number(j,r)"
   ]
  },
  {
   "cell_type": "markdown",
   "metadata": {},
   "source": [
    "# "
   ]
  }
 ],
 "metadata": {
  "kernelspec": {
   "display_name": "Python 3",
   "language": "python",
   "name": "python3"
  },
  "language_info": {
   "codemirror_mode": {
    "name": "ipython",
    "version": 3
   },
   "file_extension": ".py",
   "mimetype": "text/x-python",
   "name": "python",
   "nbconvert_exporter": "python",
   "pygments_lexer": "ipython3",
   "version": "3.7.3"
  }
 },
 "nbformat": 4,
 "nbformat_minor": 2
}
