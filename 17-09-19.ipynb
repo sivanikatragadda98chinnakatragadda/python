{
 "cells": [
  {
   "cell_type": "markdown",
   "metadata": {},
   "source": [
    "###lift elavator"
   ]
  },
  {
   "cell_type": "code",
   "execution_count": 2,
   "metadata": {},
   "outputs": [
    {
     "name": "stdout",
     "output_type": "stream",
     "text": [
      "how many times2\n",
      "floor3\n",
      "first lift\n",
      "floor5\n",
      "first lift\n"
     ]
    }
   ],
   "source": [
    "h=int(input(\"how many times\"))\n",
    "a=0\n",
    "s=7\n",
    "for i in range(h):\n",
    "    r=int(input(\"floor\"))\n",
    "    if r<s//2:\n",
    "        print(\"second lift\")\n",
    "        s=r\n",
    "    else:\n",
    "        print(\"first lift\")\n",
    "        a=r"
   ]
  },
  {
   "cell_type": "markdown",
   "metadata": {},
   "source": [
    "###two strings"
   ]
  },
  {
   "cell_type": "code",
   "execution_count": 10,
   "metadata": {},
   "outputs": [
    {
     "name": "stdout",
     "output_type": "stream",
     "text": [
      "2\n",
      "sivani nani\n",
      "no\n",
      "abc cba\n",
      "yes\n"
     ]
    }
   ],
   "source": [
    "h=int(input())\n",
    "for i in range(h):\n",
    "    s=input().split()\n",
    "    s1=sorted(s[0])\n",
    "    s2=sorted(s[1])\n",
    "    if s1==s2:\n",
    "        print(\"yes\")\n",
    "    else:\n",
    "        print(\"no\")"
   ]
  },
  {
   "cell_type": "code",
   "execution_count": 2,
   "metadata": {},
   "outputs": [
    {
     "data": {
      "text/plain": [
       "['__and__',\n",
       " '__class__',\n",
       " '__contains__',\n",
       " '__delattr__',\n",
       " '__dir__',\n",
       " '__doc__',\n",
       " '__eq__',\n",
       " '__format__',\n",
       " '__ge__',\n",
       " '__getattribute__',\n",
       " '__gt__',\n",
       " '__hash__',\n",
       " '__iand__',\n",
       " '__init__',\n",
       " '__init_subclass__',\n",
       " '__ior__',\n",
       " '__isub__',\n",
       " '__iter__',\n",
       " '__ixor__',\n",
       " '__le__',\n",
       " '__len__',\n",
       " '__lt__',\n",
       " '__ne__',\n",
       " '__new__',\n",
       " '__or__',\n",
       " '__rand__',\n",
       " '__reduce__',\n",
       " '__reduce_ex__',\n",
       " '__repr__',\n",
       " '__ror__',\n",
       " '__rsub__',\n",
       " '__rxor__',\n",
       " '__setattr__',\n",
       " '__sizeof__',\n",
       " '__str__',\n",
       " '__sub__',\n",
       " '__subclasshook__',\n",
       " '__xor__',\n",
       " 'add',\n",
       " 'clear',\n",
       " 'copy',\n",
       " 'difference',\n",
       " 'difference_update',\n",
       " 'discard',\n",
       " 'intersection',\n",
       " 'intersection_update',\n",
       " 'isdisjoint',\n",
       " 'issubset',\n",
       " 'issuperset',\n",
       " 'pop',\n",
       " 'remove',\n",
       " 'symmetric_difference',\n",
       " 'symmetric_difference_update',\n",
       " 'union',\n",
       " 'update']"
      ]
     },
     "execution_count": 2,
     "metadata": {},
     "output_type": "execute_result"
    }
   ],
   "source": [
    "dir(set)"
   ]
  },
  {
   "cell_type": "markdown",
   "metadata": {},
   "source": [
    "###7segment ==>18-09-19"
   ]
  },
  {
   "cell_type": "code",
   "execution_count": 5,
   "metadata": {},
   "outputs": [
    {
     "name": "stdout",
     "output_type": "stream",
     "text": [
      "1\n",
      "213\n",
      "5\n",
      "2\n",
      "5\n",
      "12\n"
     ]
    }
   ],
   "source": [
    "h=int(input())\n",
    "c=0\n",
    "d={'0':6,'1':2,'2':5,'3':5,'4':4,'5':5,'6':6,'7':3,'8':7,'9':6}\n",
    "for i in range(h):\n",
    "    a=input() \n",
    "    for j in a: \n",
    "        print(d[j])\n",
    "        c=c+(d[j])\n",
    "    print(c)\n"
   ]
  },
  {
   "cell_type": "markdown",
   "metadata": {},
   "source": [
    "###maze"
   ]
  },
  {
   "cell_type": "code",
   "execution_count": 1,
   "metadata": {},
   "outputs": [
    {
     "name": "stdout",
     "output_type": "stream",
     "text": [
      "lllU\n",
      "[0, 0] direction not found\n",
      "[0, 0] direction not found\n",
      "[0, 0] direction not found\n",
      "[0, 0] direction not found\n",
      "[0, 0]\n"
     ]
    }
   ],
   "source": [
    "s=input()\n",
    "p=[0,0]\n",
    "for i in s:\n",
    "    if i=='1':\n",
    "        p[0]-=1\n",
    "    elif i=='r':\n",
    "        p[0]+=1\n",
    "    elif i=='u':\n",
    "        p[1]+=1\n",
    "    elif i=='d':\n",
    "        p[1]-=1\n",
    "    else:\n",
    "        print(p,\"direction not found\")\n",
    "print(p)"
   ]
  },
  {
   "cell_type": "code",
   "execution_count": 3,
   "metadata": {},
   "outputs": [],
   "source": [
    "filepath=\"./sivani/sample.txt\"\n",
    "with open(filepath,'w') as s:\n",
    "    s.write(\"sivani is a good girl\\nsivani is a bad girl\")"
   ]
  },
  {
   "cell_type": "code",
   "execution_count": 5,
   "metadata": {},
   "outputs": [
    {
     "name": "stdout",
     "output_type": "stream",
     "text": [
      "sivani is a good girl\n",
      "sivani is a bad girl\n"
     ]
    }
   ],
   "source": [
    "filePath={\"./sivani/sample.txt\"}\n",
    "with open (filepath,'r') as f:\n",
    "    data=f.read()\n",
    "    print(data)"
   ]
  },
  {
   "cell_type": "code",
   "execution_count": null,
   "metadata": {},
   "outputs": [],
   "source": []
  }
 ],
 "metadata": {
  "kernelspec": {
   "display_name": "Python 3",
   "language": "python",
   "name": "python3"
  },
  "language_info": {
   "codemirror_mode": {
    "name": "ipython",
    "version": 3
   },
   "file_extension": ".py",
   "mimetype": "text/x-python",
   "name": "python",
   "nbconvert_exporter": "python",
   "pygments_lexer": "ipython3",
   "version": "3.7.3"
  }
 },
 "nbformat": 4,
 "nbformat_minor": 2
}
